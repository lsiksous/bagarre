{
 "cells": [
  {
   "cell_type": "markdown",
   "metadata": {
    "id": "Z3gid2jGEgBb"
   },
   "source": [
    "# **La bagarre**\n",
    "\n",
    "---\n",
    "\n"
   ]
  },
  {
   "cell_type": "markdown",
   "metadata": {
    "id": "n1oCFjhLEuDh"
   },
   "source": [
    "## Preamble"
   ]
  },
  {
   "cell_type": "code",
   "execution_count": null,
   "metadata": {
    "colab": {
     "base_uri": "https://localhost:8080/"
    },
    "executionInfo": {
     "elapsed": 15537,
     "status": "ok",
     "timestamp": 1645203251521,
     "user": {
      "displayName": "Laurent Siksous",
      "photoUrl": "https://lh3.googleusercontent.com/a-/AOh14GiHvVwisG-qXxuKQl11GXHhjgdKTYtBv9UVZjn6lQ=s64",
      "userId": "17908362452043389639"
     },
     "user_tz": -60
    },
    "id": "t3akG9Jd2JZc",
    "outputId": "6da67b50-3deb-4ca1-cd6f-3368cf2a9381"
   },
   "outputs": [],
   "source": [
    "try:\n",
    "    from google.colab import drive\n",
    "    drive.mount('/content/drive', force_remount=True)\n",
    "    COLAB = True\n",
    "    print(\"Note: using Google CoLab\")\n",
    "    %tensorflow_version 2.x\n",
    "except:\n",
    "    print(\"Note: not using Google CoLab\")\n",
    "    COLAB = False"
   ]
  },
  {
   "cell_type": "code",
   "execution_count": null,
   "metadata": {
    "colab": {
     "base_uri": "https://localhost:8080/"
    },
    "executionInfo": {
     "elapsed": 396,
     "status": "ok",
     "timestamp": 1645203259098,
     "user": {
      "displayName": "Laurent Siksous",
      "photoUrl": "https://lh3.googleusercontent.com/a-/AOh14GiHvVwisG-qXxuKQl11GXHhjgdKTYtBv9UVZjn6lQ=s64",
      "userId": "17908362452043389639"
     },
     "user_tz": -60
    },
    "id": "j3EodR1DoP9n",
    "outputId": "4429822e-eb6b-4197-e86d-0d1199f0b939"
   },
   "outputs": [],
   "source": [
    "gpu_info = !nvidia-smi\n",
    "gpu_info = '\\n'.join(gpu_info)\n",
    "if gpu_info.find('failed') >= 0:\n",
    "  print('Not connected to a GPU')\n",
    "else:\n",
    "  print(gpu_info)"
   ]
  },
  {
   "cell_type": "markdown",
   "metadata": {
    "id": "R9BMit6vL4L9"
   },
   "source": [
    "### Global variables"
   ]
  },
  {
   "cell_type": "code",
   "execution_count": null,
   "metadata": {
    "executionInfo": {
     "elapsed": 410,
     "status": "ok",
     "timestamp": 1645203280499,
     "user": {
      "displayName": "Laurent Siksous",
      "photoUrl": "https://lh3.googleusercontent.com/a-/AOh14GiHvVwisG-qXxuKQl11GXHhjgdKTYtBv9UVZjn6lQ=s64",
      "userId": "17908362452043389639"
     },
     "user_tz": -60
    },
    "id": "41-GwfOcL3Fc"
   },
   "outputs": [],
   "source": [
    "batch_size = 512\n",
    "data_path = './data'\n",
    "input_shape = (224,224,3)\n",
    "num_classes = 6"
   ]
  },
  {
   "cell_type": "markdown",
   "metadata": {
    "id": "Utn62fL0EzPu"
   },
   "source": [
    "### Imports"
   ]
  },
  {
   "cell_type": "code",
   "execution_count": null,
   "metadata": {
    "executionInfo": {
     "elapsed": 2655,
     "status": "ok",
     "timestamp": 1645203328978,
     "user": {
      "displayName": "Laurent Siksous",
      "photoUrl": "https://lh3.googleusercontent.com/a-/AOh14GiHvVwisG-qXxuKQl11GXHhjgdKTYtBv9UVZjn6lQ=s64",
      "userId": "17908362452043389639"
     },
     "user_tz": -60
    },
    "id": "av3z-24vTzb5"
   },
   "outputs": [],
   "source": [
    "import os\n",
    "import numpy as np\n",
    "import cv2\n",
    "import PIL\n",
    "\n",
    "import tensorflow as tf\n",
    "from tensorflow.keras.preprocessing.image import ImageDataGenerator\n",
    "from tensorflow.keras.callbacks import ReduceLROnPlateau, ModelCheckpoint, EarlyStopping \n",
    "from tensorflow.keras.applications import NASNetMobile\n",
    "from sklearn.metrics import confusion_matrix, classification_report\n",
    "\n",
    "import pandas as pd\n",
    "import matplotlib.pyplot as plt\n",
    "import inspect\n",
    "from tqdm import tqdm"
   ]
  },
  {
   "cell_type": "markdown",
   "metadata": {
    "id": "oSCJIXgMF7Ll"
   },
   "source": [
    "### Functions"
   ]
  },
  {
   "cell_type": "code",
   "execution_count": null,
   "metadata": {
    "executionInfo": {
     "elapsed": 382,
     "status": "ok",
     "timestamp": 1645203345335,
     "user": {
      "displayName": "Laurent Siksous",
      "photoUrl": "https://lh3.googleusercontent.com/a-/AOh14GiHvVwisG-qXxuKQl11GXHhjgdKTYtBv9UVZjn6lQ=s64",
      "userId": "17908362452043389639"
     },
     "user_tz": -60
    },
    "id": "2UHlViLg1c5K"
   },
   "outputs": [],
   "source": [
    "def random_images(n):\n",
    "    images = []\n",
    "    i = 1\n",
    "    for dirname, _, filenames in os.walk(path):\n",
    "        for filename in filenames:\n",
    "            images.append(os.path.join(dirname, filename))\n",
    "    samples = np.random.randint(len(filenames), size=n)\n",
    "    print(f'Displaying {n} images from a total of {len(images)} found.')\n",
    "    f = plt.figure(figsize=(2*n,15))\n",
    "    for sample in samples:\n",
    "        sample_image = cv2.imread(images[sample])\n",
    "        f.add_subplot(1, n, i)\n",
    "        plt.imshow(sample_image)\n",
    "        i = i + 1"
   ]
  },
  {
   "cell_type": "markdown",
   "metadata": {
    "id": "SWpeyS7cE33s"
   },
   "source": [
    "## Data"
   ]
  },
  {
   "cell_type": "code",
   "execution_count": null,
   "metadata": {
    "colab": {
     "base_uri": "https://localhost:8080/",
     "height": 163
    },
    "executionInfo": {
     "elapsed": 121748,
     "status": "ok",
     "timestamp": 1645203472745,
     "user": {
      "displayName": "Laurent Siksous",
      "photoUrl": "https://lh3.googleusercontent.com/a-/AOh14GiHvVwisG-qXxuKQl11GXHhjgdKTYtBv9UVZjn6lQ=s64",
      "userId": "17908362452043389639"
     },
     "user_tz": -60
    },
    "id": "lbcOvdc415bx",
    "outputId": "7631c597-a860-4b6b-a94a-60a7c7228ebe"
   },
   "outputs": [],
   "source": [
    "random_images(8)"
   ]
  },
  {
   "cell_type": "code",
   "execution_count": null,
   "metadata": {},
   "outputs": [],
   "source": [
    "#!pip install split-folders\n",
    "import splitfolders as sf\n",
    "\n",
    "sf.ratio(f'{data_path}/raw',\n",
    "  output=f'{data_path}/processed',\n",
    "  seed=42,\n",
    "  ratio=(.8, .1, .1),\n",
    "  group_prefix=None,\n",
    "  move=False)"
   ]
  },
  {
   "cell_type": "code",
   "execution_count": null,
   "metadata": {
    "colab": {
     "base_uri": "https://localhost:8080/"
    },
    "executionInfo": {
     "elapsed": 1566,
     "status": "ok",
     "timestamp": 1645203723115,
     "user": {
      "displayName": "Laurent Siksous",
      "photoUrl": "https://lh3.googleusercontent.com/a-/AOh14GiHvVwisG-qXxuKQl11GXHhjgdKTYtBv9UVZjn6lQ=s64",
      "userId": "17908362452043389639"
     },
     "user_tz": -60
    },
    "id": "UwuPAf5_0LTi",
    "outputId": "d77ba1f6-3378-438a-9819-0f4fbdc98124"
   },
   "outputs": [],
   "source": [
    "idg_aug = ImageDataGenerator(rescale=1./255,\n",
    "        shear_range=0.2,\n",
    "        zoom_range=0.2,\n",
    "        horizontal_flip=True)\n",
    "\n",
    "idg_raw = ImageDataGenerator(rescale=1./255)\n",
    "\n",
    "\n",
    "train = idg_aug.flow_from_directory(f'{data_path}/processed/train',\n",
    "                                subset='training',\n",
    "                                target_size=(224, 224),\n",
    "                                class_mode=\"categorical\",\n",
    "                                batch_size=batch_size,\n",
    "                                shuffle=False,\n",
    "                                seed=42)\n",
    "\n",
    "val = idg_raw.flow_from_directory(f'{data_path}/processed/val',\n",
    "                                subset='training',\n",
    "                                target_size=(224, 224),\n",
    "                                class_mode=\"categorical\",\n",
    "                                shuffle=False,\n",
    "                                seed=42)\n",
    "\n",
    "test = idg_raw.flow_from_directory(f'{data_path}/processed/test',\n",
    "                                subset='training',\n",
    "                                target_size=(224, 224),\n",
    "                                class_mode=\"categorical\",\n",
    "                                shuffle=False,\n",
    "                                seed=42)"
   ]
  },
  {
   "cell_type": "markdown",
   "metadata": {},
   "source": [
    "## Train Model"
   ]
  },
  {
   "cell_type": "code",
   "execution_count": null,
   "metadata": {},
   "outputs": [],
   "source": [
    "# Reduce LR\n",
    "reduce_lr = ReduceLROnPlateau(monitor='val_loss', factor=0.2,\n",
    "                              patience=3, min_lr=0.00001)\n",
    "\n",
    "# Checkpoints\n",
    "checkpoint_filepath = \"./model/checkpoint\"\n",
    "checkpoint = ModelCheckpoint(filepath=checkpoint_filepath,\n",
    "                             monitor='val_loss', verbose=1,\n",
    "                             save_weights_only=True,\n",
    "                             save_best_only=True, mode='min')\n",
    "\n",
    "# EarlyStopping\n",
    "early_stop = EarlyStopping(monitor='val_loss',\n",
    "                           patience=5,\n",
    "                           restore_best_weights=True,\n",
    "                           mode='min')\n",
    "\n",
    "callbacks = [checkpoint, early_stop, reduce_lr]"
   ]
  },
  {
   "cell_type": "code",
   "execution_count": null,
   "metadata": {
    "colab": {
     "base_uri": "https://localhost:8080/"
    },
    "id": "_IR3p400gDj6",
    "outputId": "be4e8ceb-9ae8-4f38-f39c-38f93a2c201e"
   },
   "outputs": [],
   "source": [
    "pre_trained_model = NASNetMobile(include_top=False, pooling='avg', input_shape=input_shape)\n",
    "pre_trained_model.trainable = False\n",
    "clf_model = tf.keras.models.Sequential()\n",
    "clf_model.add(pre_trained_model)\n",
    "clf_model.add(tf.keras.layers.Dense(num_classes, activation='softmax'))\n",
    "clf_model.compile(loss='categorical_crossentropy', metrics=['accuracy'])\n",
    "#clf_model.load_weights(checkpoint_filepath)\n",
    "history = clf_model.fit(train, callbacks=callbacks, epochs=20, validation_data=val)"
   ]
  },
  {
   "cell_type": "code",
   "execution_count": null,
   "metadata": {},
   "outputs": [],
   "source": [
    "clf_model.save('./model/NASNetMobile-mednist')"
   ]
  },
  {
   "cell_type": "markdown",
   "metadata": {
    "id": "BwcbclBLKmlC"
   },
   "source": [
    "## Evaluate Model"
   ]
  },
  {
   "cell_type": "code",
   "execution_count": 20,
   "metadata": {},
   "outputs": [],
   "source": [
    "model = tf.keras.models.load_model('./model/NASNetMobile-mednist')\n",
    "y_pred = model.predict(test)\n",
    "y_pred = np.argmax(y_pred, axis=1)"
   ]
  },
  {
   "cell_type": "code",
   "execution_count": 21,
   "metadata": {},
   "outputs": [
    {
     "name": "stdout",
     "output_type": "stream",
     "text": [
      "Confusion Matrix\n",
      "[[800   0   0   0   0   0]\n",
      " [  0 717   0   0   0   0]\n",
      " [  0   0 800   0   0   0]\n",
      " [  0   0   0 800   0   0]\n",
      " [  0   0   0   0 800   0]\n",
      " [  0   0   0   0   0 802]]\n"
     ]
    }
   ],
   "source": [
    "print('Confusion Matrix')\n",
    "print(confusion_matrix(test.classes, y_pred))"
   ]
  },
  {
   "cell_type": "code",
   "execution_count": 22,
   "metadata": {},
   "outputs": [
    {
     "name": "stdout",
     "output_type": "stream",
     "text": [
      "Classification Report\n",
      "              precision    recall  f1-score   support\n",
      "\n",
      "           0       1.00      1.00      1.00       800\n",
      "           1       1.00      1.00      1.00       717\n",
      "           2       1.00      1.00      1.00       800\n",
      "           3       1.00      1.00      1.00       800\n",
      "           4       1.00      1.00      1.00       800\n",
      "           5       1.00      1.00      1.00       802\n",
      "\n",
      "    accuracy                           1.00      4719\n",
      "   macro avg       1.00      1.00      1.00      4719\n",
      "weighted avg       1.00      1.00      1.00      4719\n",
      "\n"
     ]
    }
   ],
   "source": [
    "print('Classification Report')\n",
    "print(classification_report(test.classes, y_pred))"
   ]
  },
  {
   "cell_type": "code",
   "execution_count": null,
   "metadata": {},
   "outputs": [],
   "source": []
  }
 ],
 "metadata": {
  "accelerator": "GPU",
  "colab": {
   "authorship_tag": "ABX9TyN5XivBMc8iTYvH7U7Hpo94",
   "collapsed_sections": [],
   "machine_shape": "hm",
   "mount_file_id": "1FpUC12yfhnagm110VeYRPreyuyxQga1r",
   "name": "bagarre.ipynb",
   "provenance": []
  },
  "kernelspec": {
   "display_name": "Python 3 (ipykernel)",
   "language": "python",
   "name": "python3"
  },
  "language_info": {
   "codemirror_mode": {
    "name": "ipython",
    "version": 3
   },
   "file_extension": ".py",
   "mimetype": "text/x-python",
   "name": "python",
   "nbconvert_exporter": "python",
   "pygments_lexer": "ipython3",
   "version": "3.9.10"
  }
 },
 "nbformat": 4,
 "nbformat_minor": 1
}
